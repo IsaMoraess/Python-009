{
 "cells": [
  {
   "cell_type": "markdown",
   "id": "68801b07",
   "metadata": {},
   "source": [
    "# Manipulaçao de Arquivos\n",
    "\n",
    "\n",
    "### Lendo Arquivos"
   ]
  },
  {
   "cell_type": "code",
   "execution_count": null,
   "id": "0ebef894",
   "metadata": {},
   "outputs": [],
   "source": [
    "# Abrindo um arquivo para leitura\n",
    "arq1 = open(\"arquivos/arquivo1.txt\", \"r\")"
   ]
  },
  {
   "cell_type": "code",
   "execution_count": null,
   "id": "8c607413",
   "metadata": {},
   "outputs": [],
   "source": [
    "type(arq1)"
   ]
  },
  {
   "cell_type": "code",
   "execution_count": null,
   "id": "efb85020",
   "metadata": {},
   "outputs": [],
   "source": [
    "# Lendo o arquivo\n",
    "print(arq1.read())"
   ]
  },
  {
   "cell_type": "code",
   "execution_count": null,
   "id": "b07ff26c",
   "metadata": {},
   "outputs": [],
   "source": [
    "# Contar o numero de caractere\n",
    "print(arq1.tell())"
   ]
  },
  {
   "cell_type": "code",
   "execution_count": null,
   "id": "c4a25bd0",
   "metadata": {},
   "outputs": [],
   "source": [
    "# Retorna para o inicio do arquivo\n",
    "print(arq1.seek(0,0))"
   ]
  },
  {
   "cell_type": "code",
   "execution_count": null,
   "id": "e0a5eea2",
   "metadata": {},
   "outputs": [],
   "source": [
    "# Lendo os primeiro 23 caractere\n",
    "print(arq1.read(23))"
   ]
  },
  {
   "cell_type": "markdown",
   "id": "ba7edad3",
   "metadata": {},
   "source": [
    "### Gravando Arquivos"
   ]
  },
  {
   "cell_type": "code",
   "execution_count": null,
   "id": "a1aab486",
   "metadata": {},
   "outputs": [],
   "source": [
    "# Abrindo o arquivo para gravaçao\n",
    "arq2 = open(\"arquivos/arquivo2.txt\", \"w\")"
   ]
  },
  {
   "cell_type": "code",
   "execution_count": null,
   "id": "384cd6c3",
   "metadata": {},
   "outputs": [],
   "source": [
    "# Como abrimos o arquivo somente para gravaçao, nao podemos usar comando de leitura\n",
    "print(arq2.read())"
   ]
  },
  {
   "cell_type": "code",
   "execution_count": null,
   "id": "5137bd32",
   "metadata": {},
   "outputs": [],
   "source": [
    "# Gravando arquivo\n",
    "arq2.write(\"Apredendo a progamar em Python\")"
   ]
  },
  {
   "cell_type": "code",
   "execution_count": null,
   "id": "9f9b98f9",
   "metadata": {},
   "outputs": [],
   "source": [
    "arq2.close()"
   ]
  },
  {
   "cell_type": "code",
   "execution_count": null,
   "id": "27702ee5",
   "metadata": {},
   "outputs": [],
   "source": [
    "# Lendo arquivo gravado\n",
    "arq2 = open(\"arquivos/arquivo2.txt\", \"r\")"
   ]
  },
  {
   "cell_type": "code",
   "execution_count": null,
   "id": "ea82f0f8",
   "metadata": {},
   "outputs": [],
   "source": [
    "print(arq2.read())"
   ]
  },
  {
   "cell_type": "code",
   "execution_count": null,
   "id": "2a7a09a8",
   "metadata": {},
   "outputs": [],
   "source": [
    "arq2.write(\"Essa ,etodologia facilita o aprendizado\")"
   ]
  },
  {
   "cell_type": "code",
   "execution_count": null,
   "id": "adf0af0d",
   "metadata": {},
   "outputs": [],
   "source": [
    "# Acrescentando conteudo\n",
    "arq2 = open(\"arquivos/arquivo2.txt\", \"a\")"
   ]
  },
  {
   "cell_type": "code",
   "execution_count": null,
   "id": "7f813224",
   "metadata": {},
   "outputs": [],
   "source": [
    "arq2.close()"
   ]
  },
  {
   "cell_type": "code",
   "execution_count": null,
   "id": "2931b881",
   "metadata": {},
   "outputs": [],
   "source": [
    "arq2 = open(\"arquivos/arquivo2.txt\", \"r\")"
   ]
  },
  {
   "cell_type": "code",
   "execution_count": null,
   "id": "b2c88910",
   "metadata": {},
   "outputs": [],
   "source": [
    "print(arq2.read())"
   ]
  },
  {
   "cell_type": "code",
   "execution_count": null,
   "id": "1c365590",
   "metadata": {},
   "outputs": [],
   "source": [
    "# Retornando ao inicio do arquivo para leitura\n",
    "arq2.seek(0,0)"
   ]
  },
  {
   "cell_type": "code",
   "execution_count": null,
   "id": "a202f5d6",
   "metadata": {},
   "outputs": [],
   "source": [
    "print(arq2.read())"
   ]
  },
  {
   "cell_type": "markdown",
   "id": "738211b5",
   "metadata": {},
   "source": [
    "### Abrindo Dataset  em Linha Unica\n",
    "\n",
    "\n",
    "https://data.cityofchicago.org/"
   ]
  },
  {
   "cell_type": "code",
   "execution_count": null,
   "id": "a0a4948f",
   "metadata": {},
   "outputs": [],
   "source": [
    "f = open('arquivos/salarios.csv', 'r')"
   ]
  },
  {
   "cell_type": "code",
   "execution_count": null,
   "id": "b66dd5fa",
   "metadata": {},
   "outputs": [],
   "source": [
    "data = f.read()"
   ]
  },
  {
   "cell_type": "code",
   "execution_count": null,
   "id": "cdf19565",
   "metadata": {},
   "outputs": [],
   "source": [
    "rows = data.split('\\n')"
   ]
  },
  {
   "cell_type": "code",
   "execution_count": null,
   "id": "82dd3ebb",
   "metadata": {},
   "outputs": [],
   "source": [
    "print(rows)"
   ]
  },
  {
   "cell_type": "markdown",
   "id": "400ac714",
   "metadata": {},
   "source": [
    "### Dividindo um arquivos em coluna "
   ]
  },
  {
   "cell_type": "code",
   "execution_count": null,
   "id": "32ae8f5c",
   "metadata": {},
   "outputs": [],
   "source": [
    "f = open('arquivos/salarios.csv', 'r')"
   ]
  },
  {
   "cell_type": "code",
   "execution_count": null,
   "id": "aa932d9b",
   "metadata": {},
   "outputs": [],
   "source": [
    "data = f.read()"
   ]
  },
  {
   "cell_type": "code",
   "execution_count": null,
   "id": "c999557a",
   "metadata": {},
   "outputs": [],
   "source": [
    "rows = data.split('\\n')"
   ]
  },
  {
   "cell_type": "code",
   "execution_count": null,
   "id": "c5f904f3",
   "metadata": {},
   "outputs": [],
   "source": [
    "full_data = []"
   ]
  },
  {
   "cell_type": "code",
   "execution_count": null,
   "id": "25c787f9",
   "metadata": {},
   "outputs": [],
   "source": [
    "print(full_data)"
   ]
  },
  {
   "cell_type": "code",
   "execution_count": null,
   "id": "7288f595",
   "metadata": {},
   "outputs": [],
   "source": [
    "for rows in rows:\n",
    "    split_row = row_split(\",\")\n",
    "    full.data.append(split_row)"
   ]
  },
  {
   "cell_type": "markdown",
   "id": "a28aee29",
   "metadata": {},
   "source": [
    "### Contando as Linhas de um Arquivo"
   ]
  },
  {
   "cell_type": "code",
   "execution_count": null,
   "id": "cb5356fa",
   "metadata": {},
   "outputs": [],
   "source": [
    "f = open('arquivos/salarios.csv', 'r')"
   ]
  },
  {
   "cell_type": "code",
   "execution_count": null,
   "id": "105629d3",
   "metadata": {},
   "outputs": [],
   "source": [
    "data = f.read()"
   ]
  },
  {
   "cell_type": "code",
   "execution_count": null,
   "id": "84586968",
   "metadata": {},
   "outputs": [],
   "source": [
    "rows = data.split('\\n')"
   ]
  },
  {
   "cell_type": "code",
   "execution_count": null,
   "id": "782ea5a1",
   "metadata": {},
   "outputs": [],
   "source": [
    "full_data = []"
   ]
  },
  {
   "cell_type": "code",
   "execution_count": null,
   "id": "83d56d29",
   "metadata": {},
   "outputs": [],
   "source": [
    "for rows in rows:\n",
    "    split_row = row_split(\",\")\n",
    "    full.data.append(split_row)"
   ]
  },
  {
   "cell_type": "code",
   "execution_count": null,
   "id": "bd6b01d8",
   "metadata": {},
   "outputs": [],
   "source": [
    "count = 0\n",
    "for row in full_data:\n",
    "    count += 1    # Equivalente a: count = count + 1"
   ]
  },
  {
   "cell_type": "code",
   "execution_count": null,
   "id": "dd7add18",
   "metadata": {},
   "outputs": [],
   "source": [
    "print(count)"
   ]
  },
  {
   "cell_type": "markdown",
   "id": "41f15025",
   "metadata": {},
   "source": [
    "### Contando o Numero de Coluna de um Arquivo "
   ]
  },
  {
   "cell_type": "code",
   "execution_count": null,
   "id": "eaf12ade",
   "metadata": {},
   "outputs": [],
   "source": [
    "f = open('arquivos/salarios.csv', 'r')\n",
    "data = f.read()\n",
    "rows = data.split('\\n')\n",
    "full_data = []"
   ]
  },
  {
   "cell_type": "code",
   "execution_count": null,
   "id": "3ddd24dc",
   "metadata": {},
   "outputs": [],
   "source": [
    "for rows in rows:\n",
    "    split_row = row_split(\",\")\n",
    "    full.data.append(split_row)\n",
    "    first_row = full_data[0]\n",
    "count = 0"
   ]
  },
  {
   "cell_type": "code",
   "execution_count": null,
   "id": "5d9a7a5c",
   "metadata": {},
   "outputs": [],
   "source": [
    "for column in first_row:\n",
    "    count = count + 1\n",
    "    \n",
    "# Outra soluçao possivel\n",
    "# for column in full_data[0]:\n",
    "#       count = count + 1"
   ]
  },
  {
   "cell_type": "code",
   "execution_count": null,
   "id": "2bee06ed",
   "metadata": {},
   "outputs": [],
   "source": [
    "print(count)"
   ]
  },
  {
   "cell_type": "markdown",
   "id": "a94dec2e",
   "metadata": {},
   "source": [
    "### Gravando Arquivo pelo Jupyter Notebook"
   ]
  },
  {
   "cell_type": "code",
   "execution_count": null,
   "id": "65f90ecd",
   "metadata": {},
   "outputs": [],
   "source": [
    "%%writefile arquivos/arquivo3.txt\n",
    "Este arquivo foi gerado pelo Jupyter Notebook.\n",
    "Podemos gerar quantas linhas quisermos e o Jupyter grava no arquivo final."
   ]
  },
  {
   "cell_type": "code",
   "execution_count": null,
   "id": "a6675eef",
   "metadata": {},
   "outputs": [],
   "source": [
    "arq3 = open('arquivos/salarios.csv', 'r')"
   ]
  },
  {
   "cell_type": "code",
   "execution_count": null,
   "id": "a0fc5164",
   "metadata": {},
   "outputs": [],
   "source": [
    "arq3.read()"
   ]
  },
  {
   "cell_type": "code",
   "execution_count": null,
   "id": "a4b25d6c",
   "metadata": {},
   "outputs": [],
   "source": [
    "# Estamos no final do arquivo e nao ha mais nada para ler\n",
    "arq3.read()"
   ]
  },
  {
   "cell_type": "code",
   "execution_count": null,
   "id": "7ff7e7c1",
   "metadata": {},
   "outputs": [],
   "source": [
    "# Retornando ao inicio do arquivo\n",
    "arq3.seek(0)"
   ]
  },
  {
   "cell_type": "markdown",
   "id": "ffd2a2bc",
   "metadata": {},
   "source": [
    "# Fim"
   ]
  },
  {
   "cell_type": "code",
   "execution_count": null,
   "id": "4a8760ff",
   "metadata": {},
   "outputs": [],
   "source": []
  }
 ],
 "metadata": {
  "kernelspec": {
   "display_name": "Python 3 (ipykernel)",
   "language": "python",
   "name": "python3"
  },
  "language_info": {
   "codemirror_mode": {
    "name": "ipython",
    "version": 3
   },
   "file_extension": ".py",
   "mimetype": "text/x-python",
   "name": "python",
   "nbconvert_exporter": "python",
   "pygments_lexer": "ipython3",
   "version": "3.9.13"
  }
 },
 "nbformat": 4,
 "nbformat_minor": 5
}
